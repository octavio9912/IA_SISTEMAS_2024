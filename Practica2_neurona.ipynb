{
  "nbformat": 4,
  "nbformat_minor": 0,
  "metadata": {
    "colab": {
      "provenance": [],
      "toc_visible": true,
      "authorship_tag": "ABX9TyMH9d2+DltHILxnzwvyatwf",
      "include_colab_link": true
    },
    "kernelspec": {
      "name": "python3",
      "display_name": "Python 3"
    },
    "language_info": {
      "name": "python"
    }
  },
  "cells": [
    {
      "cell_type": "markdown",
      "metadata": {
        "id": "view-in-github",
        "colab_type": "text"
      },
      "source": [
        "<a href=\"https://colab.research.google.com/github/octavio9912/IA_SISTEMAS_2024/blob/main/Practica2_neurona.ipynb\" target=\"_parent\"><img src=\"https://colab.research.google.com/assets/colab-badge.svg\" alt=\"Open In Colab\"/></a>"
      ]
    },
    {
      "cell_type": "markdown",
      "source": [
        "\n",
        "# Neurona aprendizaje compuerta AND\n",
        "\n",
        "\n",
        "---\n",
        "\n",
        "\n",
        "*   00 -> 0\n",
        "*   01 -> 0\n",
        "\n",
        "*   10 -> 0\n",
        "*   11 -> 1\n",
        "\n",
        "\n",
        "\n"
      ],
      "metadata": {
        "id": "3u-J8_9R41ok"
      }
    },
    {
      "cell_type": "code",
      "execution_count": 7,
      "metadata": {
        "colab": {
          "base_uri": "https://localhost:8080/"
        },
        "id": "byJ1HNDVy9bP",
        "outputId": "659da8dd-587f-4034-c660-dd24968825c5"
      },
      "outputs": [
        {
          "output_type": "stream",
          "name": "stdout",
          "text": [
            "0\n",
            "0 AND 0 = 0\n",
            "-1\n",
            "0 AND 1 = 0\n",
            "0\n",
            "1 AND 0 = 0\n",
            "1\n",
            "1 AND 1 = 1\n"
          ]
        }
      ],
      "source": [
        "x = [0,0]\n",
        "w = [0,-1]\n",
        "s=0\n",
        "y=0\n",
        "for i in range(len(x)):\n",
        "  s=s+x[i]*w[i]\n",
        "print(s)\n",
        "\n",
        "y=1 if s>0 else 0\n",
        "print(x[0],'AND',x[1],'=',y)\n",
        "\n",
        "x = [0,1]\n",
        "s=0\n",
        "y=0\n",
        "for i in range(len(x)):\n",
        "  s=s+x[i]*w[i]\n",
        "print(s)\n",
        "\n",
        "y=1 if s>0 else 0\n",
        "print(x[0],'AND',x[1],'=',y)\n",
        "\n",
        "x = [1,0]\n",
        "s=0\n",
        "y=0\n",
        "for i in range(len(x)):\n",
        "  s=s+x[i]*w[i]\n",
        "print(s)\n",
        "\n",
        "y=1 if s>0 else 0\n",
        "print(x[0],'AND',x[1],'=',y)\n",
        "\n",
        "x = [1,1]\n",
        "s=0\n",
        "y=0\n",
        "for i in range(len(x)):\n",
        "  s=s-x[i]*w[i]\n",
        "print(s)\n",
        "\n",
        "y=1 if s>0 else 0\n",
        "print(x[0],'AND',x[1],'=',y)"
      ]
    }
  ]
}