{
  "nbformat": 4,
  "nbformat_minor": 0,
  "metadata": {
    "colab": {
      "provenance": [],
      "toc_visible": true,
      "authorship_tag": "ABX9TyMC3VVkQrK8cThPGBkX2z56",
      "include_colab_link": true
    },
    "kernelspec": {
      "name": "python3",
      "display_name": "Python 3"
    },
    "language_info": {
      "name": "python"
    }
  },
  "cells": [
    {
      "cell_type": "markdown",
      "metadata": {
        "id": "view-in-github",
        "colab_type": "text"
      },
      "source": [
        "<a href=\"https://colab.research.google.com/github/octavio9912/IA_SISTEMAS_2024/blob/main/Evaluaci%C3%B3n_Diagnostica.ipynb\" target=\"_parent\"><img src=\"https://colab.research.google.com/assets/colab-badge.svg\" alt=\"Open In Colab\"/></a>"
      ]
    },
    {
      "cell_type": "markdown",
      "source": [
        "# Evalucion Diagnostica"
      ],
      "metadata": {
        "id": "7SOZlP0-0yzF"
      }
    },
    {
      "cell_type": "markdown",
      "source": [
        "¿Como se decalra un lsiata en python?"
      ],
      "metadata": {
        "id": "UZ_19dZ8rAo0"
      }
    },
    {
      "cell_type": "code",
      "execution_count": null,
      "metadata": {
        "colab": {
          "base_uri": "https://localhost:8080/"
        },
        "id": "fNCB1vinqw8b",
        "outputId": "ac259a46-b3af-4f1a-aa8b-a3fa3570572c"
      },
      "outputs": [
        {
          "output_type": "stream",
          "name": "stdout",
          "text": [
            "[1, 2, 3]\n"
          ]
        }
      ],
      "source": [
        "my_list = [1,2,3]\n",
        "print (my_list)"
      ]
    },
    {
      "cell_type": "markdown",
      "source": [
        "¿Que funcion se usa para conocer el numero de elementos en una lista?"
      ],
      "metadata": {
        "id": "zZNCc9Vkq-1l"
      }
    },
    {
      "cell_type": "code",
      "source": [
        "print(len(my_list))"
      ],
      "metadata": {
        "colab": {
          "base_uri": "https://localhost:8080/"
        },
        "id": "0uDYSHIvrcE2",
        "outputId": "4fe9d1ce-47d1-4094-d1b8-3e77e1337afd"
      },
      "execution_count": null,
      "outputs": [
        {
          "output_type": "stream",
          "name": "stdout",
          "text": [
            "3\n"
          ]
        }
      ]
    },
    {
      "cell_type": "markdown",
      "source": [
        "¿Que resultado obtenemos al ejecutar el siguinte codigo?"
      ],
      "metadata": {
        "id": "6EajhqFRrrQD"
      }
    },
    {
      "cell_type": "code",
      "source": [
        "a = [1,2,3,4,5]\n",
        "print(a[::-1])"
      ],
      "metadata": {
        "colab": {
          "base_uri": "https://localhost:8080/"
        },
        "id": "P5K5vcnSrqdI",
        "outputId": "2f44f195-ce25-4d40-d1be-2f6baeda0c34"
      },
      "execution_count": null,
      "outputs": [
        {
          "output_type": "stream",
          "name": "stdout",
          "text": [
            "[5, 4, 3, 2, 1]\n"
          ]
        }
      ]
    },
    {
      "cell_type": "markdown",
      "source": [
        "¿Cual es el resultado de la siguinte expresion?"
      ],
      "metadata": {
        "id": "3vd98sVNsRXD"
      }
    },
    {
      "cell_type": "code",
      "source": [
        "print(3*\"5\"+2)"
      ],
      "metadata": {
        "colab": {
          "base_uri": "https://localhost:8080/",
          "height": 141
        },
        "id": "VKv9ePA7sao5",
        "outputId": "76d0b67e-c7b9-4eba-9034-7d4abf577742"
      },
      "execution_count": null,
      "outputs": [
        {
          "output_type": "error",
          "ename": "TypeError",
          "evalue": "can only concatenate str (not \"int\") to str",
          "traceback": [
            "\u001b[0;31m---------------------------------------------------------------------------\u001b[0m",
            "\u001b[0;31mTypeError\u001b[0m                                 Traceback (most recent call last)",
            "\u001b[0;32m<ipython-input-5-ecf93d8422a1>\u001b[0m in \u001b[0;36m<cell line: 1>\u001b[0;34m()\u001b[0m\n\u001b[0;32m----> 1\u001b[0;31m \u001b[0mprint\u001b[0m\u001b[0;34m(\u001b[0m\u001b[0;36m3\u001b[0m\u001b[0;34m*\u001b[0m\u001b[0;34m\"5\"\u001b[0m\u001b[0;34m+\u001b[0m\u001b[0;36m2\u001b[0m\u001b[0;34m)\u001b[0m\u001b[0;34m\u001b[0m\u001b[0;34m\u001b[0m\u001b[0m\n\u001b[0m",
            "\u001b[0;31mTypeError\u001b[0m: can only concatenate str (not \"int\") to str"
          ]
        }
      ]
    },
    {
      "cell_type": "markdown",
      "source": [
        "¿Cual es el resultado de la suguiente expresion?"
      ],
      "metadata": {
        "id": "VpRHyyf0sh-J"
      }
    },
    {
      "cell_type": "code",
      "source": [
        "def foo(x, y=[]):\n",
        "  y.append(x)\n",
        "  return y\n",
        "\n",
        "print(foo(1))\n",
        "print(foo(2,[]))\n",
        "print(foo(3))"
      ],
      "metadata": {
        "colab": {
          "base_uri": "https://localhost:8080/"
        },
        "id": "52h_lGuwssnP",
        "outputId": "a63f3e88-f943-496e-b7c4-8fddee39aec5"
      },
      "execution_count": null,
      "outputs": [
        {
          "output_type": "stream",
          "name": "stdout",
          "text": [
            "[1]\n",
            "[2]\n",
            "[1, 3]\n"
          ]
        }
      ]
    },
    {
      "cell_type": "markdown",
      "source": [
        "¿Que resultado obtenemos al ejecutar el siguinte codigo?"
      ],
      "metadata": {
        "id": "NhpaUJvptrxI"
      }
    },
    {
      "cell_type": "code",
      "source": [
        "def multiply_list(numbers,factor):\n",
        "  result=[]\n",
        "  for number in numbers:\n",
        "    result.append(number * factor)\n",
        "  return result\n",
        "\n",
        "my_list=[1,2,3]\n",
        "output = multiply_list(my_list,2)\n",
        "print(output)"
      ],
      "metadata": {
        "colab": {
          "base_uri": "https://localhost:8080/"
        },
        "id": "EwfMFV-Vtg8Q",
        "outputId": "db0b1b87-5ca6-4326-8c87-1ba19d71a148"
      },
      "execution_count": null,
      "outputs": [
        {
          "output_type": "stream",
          "name": "stdout",
          "text": [
            "[2, 4, 6]\n"
          ]
        }
      ]
    },
    {
      "cell_type": "markdown",
      "source": [
        "# Practica de python\n"
      ],
      "metadata": {
        "id": "eE45Addm08NV"
      }
    },
    {
      "cell_type": "markdown",
      "source": [
        "Clasificacion de una lista con numeros impares e impares"
      ],
      "metadata": {
        "id": "Upk248VC1EEY"
      }
    },
    {
      "cell_type": "code",
      "source": [
        "#saber el tipo de dato\n",
        "#numeros = [10,25,36,98,77,34,89,58]\n",
        "\n",
        "#print(type(numeros[0]))"
      ],
      "metadata": {
        "id": "bc2NwdTV1YL9"
      },
      "execution_count": 6,
      "outputs": []
    },
    {
      "cell_type": "code",
      "source": [
        "#Declaracion de variables\n",
        "numeros = [10,25,36,98,77,34,89,58]\n",
        "pares = []\n",
        "impares = []"
      ],
      "metadata": {
        "id": "jSkwBn8R2dyN"
      },
      "execution_count": 8,
      "outputs": []
    },
    {
      "cell_type": "code",
      "source": [
        "#ciclo for para recorrer la lista\n",
        "for numero in numeros:\n",
        "  if numero % 2 == 0:\n",
        "    pares.append(numero)\n",
        "  else:\n",
        "    impares.append(numero)"
      ],
      "metadata": {
        "id": "E-KyHYg12tM0"
      },
      "execution_count": 9,
      "outputs": []
    },
    {
      "cell_type": "code",
      "source": [
        "#imprimir resultados\n",
        "print(\"Numeros pares: \", pares, \"total\", len(pares))\n",
        "print(\"Numeros impares: \", impares, \"total\", len(impares))"
      ],
      "metadata": {
        "colab": {
          "base_uri": "https://localhost:8080/"
        },
        "id": "mTzGKsGP36GO",
        "outputId": "2567c558-f212-43e4-b177-3bf4553d6deb"
      },
      "execution_count": 11,
      "outputs": [
        {
          "output_type": "stream",
          "name": "stdout",
          "text": [
            "Numeros pares:  [10, 36, 98, 34, 58] total 5\n",
            "Numeros impares:  [25, 77, 89] total 3\n"
          ]
        }
      ]
    },
    {
      "cell_type": "code",
      "source": [
        "#funcion suma de los numeros pares\n",
        "def sumaDeLista(lista):\n",
        "  suma = 0\n",
        "  for numero in lista:\n",
        "    suma += numero\n",
        "  return suma"
      ],
      "metadata": {
        "id": "h_Av_cnM6PHe"
      },
      "execution_count": 17,
      "outputs": []
    },
    {
      "cell_type": "code",
      "source": [
        "# impresion de la suma\n",
        "print(\"La suma de los numeros pares es: \", sumaDeLista(pares))\n",
        "print(\"La suma de los numeros pares es: \", sumaDeLista(impares))"
      ],
      "metadata": {
        "colab": {
          "base_uri": "https://localhost:8080/"
        },
        "id": "r6iChwZT7SeL",
        "outputId": "d01d9bd1-e58e-4197-b823-9e092490fb27"
      },
      "execution_count": 19,
      "outputs": [
        {
          "output_type": "stream",
          "name": "stdout",
          "text": [
            "La suma de los numeros pares es:  236\n",
            "La suma de los numeros pares es:  191\n"
          ]
        }
      ]
    }
  ]
}