{
  "cells": [
    {
      "cell_type": "markdown",
      "metadata": {
        "id": "view-in-github",
        "colab_type": "text"
      },
      "source": [
        "<a href=\"https://colab.research.google.com/github/octavio9912/IA_SISTEMAS_2024/blob/main/Examen.ipynb\" target=\"_parent\"><img src=\"https://colab.research.google.com/assets/colab-badge.svg\" alt=\"Open In Colab\"/></a>"
      ]
    },
    {
      "cell_type": "code",
      "execution_count": null,
      "metadata": {
        "colab": {
          "base_uri": "https://localhost:8080/"
        },
        "id": "hEJy814l2YeD",
        "outputId": "b3968230-65cc-4187-b24a-8bf5d66cf2d5"
      },
      "outputs": [
        {
          "output_type": "stream",
          "name": "stdout",
          "text": [
            "$$$$$$$$$$$$$$$$$$$$$$$$$$$$$$$$$$$$$$$$$$$$$$$$$$$$$$$$$$$$$$$$$$$$$$$$$$$$$$$$$$$$$$$$$$$$$$$$$$\n",
            "Preciona 1 para AND:\n",
            "Preciona 2 para OR:\n",
            "Preciona 3 para salir:\n",
            "COMPUERTA : 2\n",
            "OR\n"
          ]
        }
      ],
      "source": [
        "# AND\n",
        "def AND(X1, X2):\n",
        "    x = [X1, X2]\n",
        "    w = [1, 1]\n",
        "    s = 0\n",
        "    y = 0\n",
        "    for i in range(len(x)):\n",
        "        s += x[i] * w[i]\n",
        "    print(s)\n",
        "\n",
        "    y = 1 if s >= 2 else 0\n",
        "    print(x[0], 'AND', x[1], '=', y)\n",
        "\n",
        "# OR\n",
        "def OR(X1,X2):\n",
        "     x = [X1, X2]\n",
        "     w = [1, 1]\n",
        "     s = 0\n",
        "     y = 0\n",
        "     for i in range(len(x)):\n",
        "        s = s + x[i] * w[i]\n",
        "     print(s)\n",
        "\n",
        "     y = 1 if s >= 1 else 0\n",
        "     print(x[0], 'OR', x[1], '=', y)\n",
        "\n",
        "\n",
        "\n",
        "def menu():\n",
        "    while True:\n",
        "        print(\"$$$$$$$$$$$$$$$$$$$$$$$$$$$$$$$$$$$$$$$$$$$$$$$$$$$$$$$$$$$$$$$$$$$$$$$$$$$$$$$$$$$$$$$$$$$$$$$$$$\")\n",
        "        print(\"Preciona 1 para AND:\")\n",
        "        print(\"Preciona 2 para OR:\")\n",
        "        print(\"Preciona 3 para salir:\")\n",
        "\n",
        "        opcion = input(\"COMPUERTA : \")\n",
        "\n",
        "        if opcion == '1':\n",
        "            print(\"AND\")\n",
        "            X1 = int(input(\"X1: \"))\n",
        "            Y1 = int(input(\"X2: \"))\n",
        "            AND(X1,Y1)\n",
        "\n",
        "        elif opcion == '2':\n",
        "           print(\"OR\")\n",
        "           X1 = int(input(\"X1: \"))\n",
        "           Y1 = int(input(\"X2: \"))\n",
        "           OR(X1,Y1)\n",
        "\n",
        "        elif opcion == '3':\n",
        "            print(\"3- ADIOS\")\n",
        "            break\n",
        "\n",
        "        else:\n",
        "            print(\"No valido\")\n",
        "\n",
        "menu()"
      ]
    }
  ],
  "metadata": {
    "colab": {
      "provenance": [],
      "authorship_tag": "ABX9TyPq+YCcjr6/cDOeVfZZczva",
      "include_colab_link": true
    },
    "kernelspec": {
      "display_name": "Python 3",
      "name": "python3"
    },
    "language_info": {
      "name": "python"
    }
  },
  "nbformat": 4,
  "nbformat_minor": 0
}