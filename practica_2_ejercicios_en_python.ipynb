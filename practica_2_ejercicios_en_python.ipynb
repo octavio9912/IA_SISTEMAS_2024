{
  "nbformat": 4,
  "nbformat_minor": 0,
  "metadata": {
    "colab": {
      "provenance": [],
      "toc_visible": true,
      "authorship_tag": "ABX9TyM4jwJSzKQCvoIsYVD1Dkmx",
      "include_colab_link": true
    },
    "kernelspec": {
      "name": "python3",
      "display_name": "Python 3"
    },
    "language_info": {
      "name": "python"
    }
  },
  "cells": [
    {
      "cell_type": "markdown",
      "metadata": {
        "id": "view-in-github",
        "colab_type": "text"
      },
      "source": [
        "<a href=\"https://colab.research.google.com/github/octavio9912/IA_SISTEMAS_2024/blob/main/practica_2_ejercicios_en_python.ipynb\" target=\"_parent\"><img src=\"https://colab.research.google.com/assets/colab-badge.svg\" alt=\"Open In Colab\"/></a>"
      ]
    },
    {
      "cell_type": "markdown",
      "source": [
        "# Ejercicio 1"
      ],
      "metadata": {
        "id": "LFSzeIAIz8UJ"
      }
    },
    {
      "cell_type": "markdown",
      "source": [
        "Un taller automotriz necesita llevar un control de su inventario de repuestos. Crea un programa que permita agregar, eliminar y consultar la cantidad de repuestos disponibles, así como realizar una compra cuando el inventario de un repuesto está bajo."
      ],
      "metadata": {
        "id": "Ex4GHtnH0guA"
      }
    },
    {
      "cell_type": "code",
      "execution_count": null,
      "metadata": {
        "colab": {
          "base_uri": "https://localhost:8080/"
        },
        "id": "JfmYMqsGzIhg",
        "outputId": "86b0851f-552e-410b-98cb-1d0c8b1ab822"
      },
      "outputs": [
        {
          "output_type": "stream",
          "name": "stdout",
          "text": [
            "$$$$$$$$$$$$$$$$$$$$$$$$$$$$$$$$$$$$$$$$$$$$$$$$$$$$$$$$$$$$$$$$$$$$$$$$$$$$$$$$$$$$$$$$$$$$$$$$$$\n",
            "Preciona 1 para agregar:\n",
            "Preciona 2 para eliminar:\n",
            "Preciona 3 para consultar inventario:\n",
            "Preciona 4 comprar:\n",
            "Preciona 5 para salir:\n",
            "Elige una opción: 1\n",
            "Ingresa el nombre del repuesto: nose1\n",
            "Ingrese la cantidad de nose1 a agregar: 10\n",
            "$$$$$$$$$$$$$$$$$$$$$$$$$$$$$$$$$$$$$$$$$$$$$$$$$$$$$$$$$$$$$$$$$$$$$$$$$$$$$$$$$$$$$$$$$$$$$$$$$$\n",
            "Preciona 1 para agregar:\n",
            "Preciona 2 para eliminar:\n",
            "Preciona 3 para consultar inventario:\n",
            "Preciona 4 comprar:\n",
            "Preciona 5 para salir:\n",
            "Elige una opción: nose2\n",
            "No valido\n",
            "$$$$$$$$$$$$$$$$$$$$$$$$$$$$$$$$$$$$$$$$$$$$$$$$$$$$$$$$$$$$$$$$$$$$$$$$$$$$$$$$$$$$$$$$$$$$$$$$$$\n",
            "Preciona 1 para agregar:\n",
            "Preciona 2 para eliminar:\n",
            "Preciona 3 para consultar inventario:\n",
            "Preciona 4 comprar:\n",
            "Preciona 5 para salir:\n",
            "Elige una opción: 3\n",
            "Ingresa el nombre del repuesto a consultar: nose1\n",
            "Hay 10 unidades de nose1 disponibles\n",
            "$$$$$$$$$$$$$$$$$$$$$$$$$$$$$$$$$$$$$$$$$$$$$$$$$$$$$$$$$$$$$$$$$$$$$$$$$$$$$$$$$$$$$$$$$$$$$$$$$$\n",
            "Preciona 1 para agregar:\n",
            "Preciona 2 para eliminar:\n",
            "Preciona 3 para consultar inventario:\n",
            "Preciona 4 comprar:\n",
            "Preciona 5 para salir:\n",
            "Elige una opción: 3\n",
            "Ingresa el nombre del repuesto a consultar: nose2\n",
            "El repuesto nose2 no está en el inventario\n",
            "$$$$$$$$$$$$$$$$$$$$$$$$$$$$$$$$$$$$$$$$$$$$$$$$$$$$$$$$$$$$$$$$$$$$$$$$$$$$$$$$$$$$$$$$$$$$$$$$$$\n",
            "Preciona 1 para agregar:\n",
            "Preciona 2 para eliminar:\n",
            "Preciona 3 para consultar inventario:\n",
            "Preciona 4 comprar:\n",
            "Preciona 5 para salir:\n",
            "Elige una opción: 1\n",
            "Ingresa el nombre del repuesto: nose2\n",
            "Ingrese la cantidad de nose2 a agregar: 3\n",
            "$$$$$$$$$$$$$$$$$$$$$$$$$$$$$$$$$$$$$$$$$$$$$$$$$$$$$$$$$$$$$$$$$$$$$$$$$$$$$$$$$$$$$$$$$$$$$$$$$$\n",
            "Preciona 1 para agregar:\n",
            "Preciona 2 para eliminar:\n",
            "Preciona 3 para consultar inventario:\n",
            "Preciona 4 comprar:\n",
            "Preciona 5 para salir:\n",
            "Elige una opción: 3\n",
            "Ingresa el nombre del repuesto a consultar: nose2\n",
            "Hay 3 unidades de nose2 disponibles\n",
            "$$$$$$$$$$$$$$$$$$$$$$$$$$$$$$$$$$$$$$$$$$$$$$$$$$$$$$$$$$$$$$$$$$$$$$$$$$$$$$$$$$$$$$$$$$$$$$$$$$\n",
            "Preciona 1 para agregar:\n",
            "Preciona 2 para eliminar:\n",
            "Preciona 3 para consultar inventario:\n",
            "Preciona 4 comprar:\n",
            "Preciona 5 para salir:\n",
            "Elige una opción: 3\n",
            "Ingresa el nombre del repuesto a consultar: nose1\n",
            "Hay 10 unidades de nose1 disponibles\n",
            "$$$$$$$$$$$$$$$$$$$$$$$$$$$$$$$$$$$$$$$$$$$$$$$$$$$$$$$$$$$$$$$$$$$$$$$$$$$$$$$$$$$$$$$$$$$$$$$$$$\n",
            "Preciona 1 para agregar:\n",
            "Preciona 2 para eliminar:\n",
            "Preciona 3 para consultar inventario:\n",
            "Preciona 4 comprar:\n",
            "Preciona 5 para salir:\n",
            "Elige una opción: 5\n",
            "Adios\n"
          ]
        }
      ],
      "source": [
        "inventario = {}\n",
        "\n",
        "# agregar\n",
        "def agregar(repuesto, cantidad):\n",
        "    if repuesto in inventario:\n",
        "        inventario[repuesto] += cantidad\n",
        "    else:\n",
        "        inventario[repuesto] = cantidad\n",
        "\n",
        "# eliminar\n",
        "def eliminar(repuesto, cantidad_borrar):\n",
        "    if repuesto in inventario:\n",
        "        inventario[repuesto] -= cantidad_borrar\n",
        "        print(f\"Se realizó una compra de {cantidad_borrar} unidades de {repuesto}\")\n",
        "    else:\n",
        "        print(f\"El repuesto {repuesto} no está en el inventario\")\n",
        "\n",
        "# consultar\n",
        "def consultar(repuesto):\n",
        "    if repuesto in inventario:\n",
        "        print(f\"Hay {inventario[repuesto]} unidades de {repuesto} disponibles\")\n",
        "    else:\n",
        "        print(f\"El repuesto {repuesto} no está en el inventario\")\n",
        "\n",
        "# compra\n",
        "def realizar_compra(repuesto, cantidad_compra):\n",
        "    if repuesto in inventario:\n",
        "        inventario[repuesto] += cantidad_compra\n",
        "        print(f\"Se realizó una compra de {cantidad_compra} unidades de {repuesto}\")\n",
        "    else:\n",
        "        print(f\"El repuesto {repuesto} no está en el inventario\")\n",
        "\n",
        "def menu():\n",
        "    while True:\n",
        "        print(\"$$$$$$$$$$$$$$$$$$$$$$$$$$$$$$$$$$$$$$$$$$$$$$$$$$$$$$$$$$$$$$$$$$$$$$$$$$$$$$$$$$$$$$$$$$$$$$$$$$\")\n",
        "        print(\"Preciona 1 para agregar:\")\n",
        "        print(\"Preciona 2 para eliminar:\")\n",
        "        print(\"Preciona 3 para consultar inventario:\")\n",
        "        print(\"Preciona 4 comprar:\")\n",
        "        print(\"Preciona 5 para salir:\")\n",
        "\n",
        "        opcion = input(\"Elige una opción: \")\n",
        "\n",
        "        if opcion == '1':\n",
        "            repuesto = input(\"Ingresa el nombre del repuesto: \")\n",
        "            cantidad = int(input(f\"Ingrese la cantidad de {repuesto} a agregar: \"))\n",
        "            agregar(repuesto, cantidad)\n",
        "\n",
        "        elif opcion == '2':\n",
        "            repuesto = input(\"Ingresa el nombre del repuesto a eliminar: \")\n",
        "            cantidad_borrar = int(input(f\"Ingrese la cantidad de {repuesto} a borrar: \"))\n",
        "            eliminar(repuesto, cantidad_borrar)\n",
        "\n",
        "        elif opcion == '3':\n",
        "            repuesto = input(\"Ingresa el nombre del repuesto a consultar: \")\n",
        "            consultar(repuesto)\n",
        "\n",
        "        elif opcion == '4':\n",
        "            repuesto = input(\"Ingresa el nombre del repuesto para realizar una compra: \")\n",
        "            cantidad_compra = int(input(f\"Ingrese la cantidad de {repuesto} a comprar: \"))\n",
        "            realizar_compra(repuesto, cantidad_compra)\n",
        "\n",
        "        elif opcion == '5':\n",
        "            print(\"Adios\")\n",
        "            break\n",
        "\n",
        "        else:\n",
        "            print(\"No valido\")\n",
        "\n",
        "menu()\n"
      ]
    },
    {
      "cell_type": "markdown",
      "source": [
        "# Ejercicio 2"
      ],
      "metadata": {
        "id": "iR1FqV4t0Cjv"
      }
    },
    {
      "cell_type": "markdown",
      "source": [
        "Una empresa de servicios a terceros ofrece proyectos de consultoría y debe llevar el control de horas trabajadas por sus empleados en diferentes proyectos. Crea un programa que calcule las horas totales trabajadas por cada empleado en varios proyectos y su costo total en función de la tarifa por hora."
      ],
      "metadata": {
        "id": "pzl2btOI0e1E"
      }
    },
    {
      "cell_type": "code",
      "source": [],
      "metadata": {
        "id": "GHMJ3Z4p0ANv"
      },
      "execution_count": null,
      "outputs": []
    },
    {
      "cell_type": "markdown",
      "source": [
        "# Neurona aprendizaje compuerta AND\n",
        "\n",
        "\n",
        "---\n",
        "\n",
        "\n",
        "*   00 -> 0\n",
        "*   01 -> 0\n",
        "\n",
        "*   10 -> 0\n",
        "*   11 -> 1\n"
      ],
      "metadata": {
        "id": "H9R4HpxP1B6l"
      }
    },
    {
      "cell_type": "code",
      "source": [
        "x = [0,0]\n",
        "w = [-2,2.1]\n",
        "s=0\n",
        "y=0\n",
        "for i in range(len(x)):\n",
        "  s=s+x[i]*w[i]\n",
        "print(s)\n",
        "\n",
        "y=1 if s>0 else 0\n",
        "print(x[0],'AND',x[1],'=',y)\n",
        "\n",
        "x = [0,1]\n",
        "s=0\n",
        "y=0\n",
        "for i in range(len(x)):\n",
        "  s=s+x[i]*w[i]\n",
        "print(s)\n",
        "\n",
        "y=1 if s>0 else 0\n",
        "print(x[0],'AND',x[1],'=',y)\n",
        "\n",
        "x = [1,0]\n",
        "s=0\n",
        "y=0\n",
        "for i in range(len(x)):\n",
        "  s=s+x[i]*w[i]\n",
        "print(s)\n",
        "\n",
        "y=1 if s>0 else 0\n",
        "print(x[0],'AND',x[1],'=',y)\n",
        "\n",
        "x = [1,1]\n",
        "s=0\n",
        "y=0\n",
        "for i in range(len(x)):\n",
        "  s=s+x[i]*w[i]\n",
        "print(s)\n",
        "\n",
        "y=1 if s>0 else 0\n",
        "print(x[0],'AND',x[1],'=',y)"
      ],
      "metadata": {
        "colab": {
          "base_uri": "https://localhost:8080/"
        },
        "id": "qn3UiEye1I1F",
        "outputId": "25b9d72d-84f3-482e-f88d-be8b8145edc8"
      },
      "execution_count": null,
      "outputs": [
        {
          "output_type": "stream",
          "name": "stdout",
          "text": [
            "0.0\n",
            "0 AND 0 = 0\n",
            "2.1\n",
            "0 AND 1 = 1\n",
            "-2.0\n",
            "1 AND 0 = 0\n",
            "0.10000000000000009\n",
            "1 AND 1 = 1\n"
          ]
        }
      ]
    }
  ]
}